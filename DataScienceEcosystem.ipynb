{
 "cells": [
  {
   "cell_type": "markdown",
   "id": "50ef16df-440b-4063-ae31-02975aa1ce3a",
   "metadata": {
    "tags": []
   },
   "source": [
    "# Data Science tools and Ecosystem"
   ]
  },
  {
   "cell_type": "markdown",
   "id": "40e005e8-22a4-40b5-8f0a-ca2b05d38a7b",
   "metadata": {},
   "source": [
    "In this notebook, Data Science Tools and Ecosystem are summarized."
   ]
  },
  {
   "cell_type": "markdown",
   "id": "a95ba77c-6d14-49aa-85f9-71523c2dad6a",
   "metadata": {
    "tags": []
   },
   "source": [
    "**Objectives**:\n",
    "<ul>\n",
    "<li>List popular languages for data science ecosystem</li>\n",
    "<li>List libraries used in data science</li>\n",
    "<li>List of data science ecosystem tools</li>\n",
    "<li>Recall arithmetric operations in python</li>\n",
    "</ul>\n"
   ]
  },
  {
   "cell_type": "markdown",
   "id": "51cd3d88-d001-4d29-a747-a51fed5905fd",
   "metadata": {
    "tags": []
   },
   "source": [
    "Some of the popular languages that Data Scientists use are:\n",
    "\n",
    "    1. Python\n",
    "    2. R\n",
    "    3. Java\n",
    "    4. Julia\n",
    "    5. Scala\n",
    "    "
   ]
  },
  {
   "cell_type": "markdown",
   "id": "a1b06014-507b-47d0-9af6-a9639f1eefc2",
   "metadata": {},
   "source": [
    "Some of the commonly used libraries used by Data Scientists include:\n",
    "\n",
    "    1. TensorFlow\n",
    "    2. Pandas\n",
    "    3. Numpy\n",
    "    4. ggplots"
   ]
  },
  {
   "cell_type": "markdown",
   "id": "45babf35-2004-42aa-a4d5-8cd4d526fb8e",
   "metadata": {},
   "source": [
    "|Data Science Tools|\n",
    "|:-|\n",
    "|Jupyter|\n",
    "|Rstudio|\n",
    "|Apache Zeppelin|"
   ]
  },
  {
   "cell_type": "markdown",
   "id": "432158ae-5e2e-4ca6-a8b9-32d05ec389f5",
   "metadata": {},
   "source": [
    "### Below are a few examples of evaluating arithmetic expressions in Python"
   ]
  },
  {
   "cell_type": "code",
   "execution_count": 2,
   "id": "5d82fae2-4ff8-44d6-9706-280cd696e25c",
   "metadata": {
    "tags": []
   },
   "outputs": [
    {
     "data": {
      "text/plain": [
       "17"
      ]
     },
     "execution_count": 2,
     "metadata": {},
     "output_type": "execute_result"
    }
   ],
   "source": [
    "# This a simple arithmetic expression to mutiply then add integers\n",
    "(3*4)+5"
   ]
  },
  {
   "cell_type": "code",
   "execution_count": 3,
   "id": "4edbc3df-6d28-4ab2-a055-da0938bf1ef0",
   "metadata": {
    "tags": []
   },
   "outputs": [
    {
     "data": {
      "text/plain": [
       "3.3333333333333335"
      ]
     },
     "execution_count": 3,
     "metadata": {},
     "output_type": "execute_result"
    }
   ],
   "source": [
    "# This will convert 200 minutes to hours by diving by 60\n",
    "200/60"
   ]
  },
  {
   "cell_type": "markdown",
   "id": "c621ec7e-9713-45fa-9a89-735325610d87",
   "metadata": {
    "tags": []
   },
   "source": [
    "## Author\n",
    "Nickson Mwamsojo"
   ]
  },
  {
   "cell_type": "code",
   "execution_count": null,
   "id": "c38a791f-7070-4a91-b3a7-c7fa4b411e60",
   "metadata": {},
   "outputs": [],
   "source": []
  }
 ],
 "metadata": {
  "kernelspec": {
   "display_name": "Python",
   "language": "python",
   "name": "conda-env-python-py"
  },
  "language_info": {
   "codemirror_mode": {
    "name": "ipython",
    "version": 3
   },
   "file_extension": ".py",
   "mimetype": "text/x-python",
   "name": "python",
   "nbconvert_exporter": "python",
   "pygments_lexer": "ipython3",
   "version": "3.7.12"
  }
 },
 "nbformat": 4,
 "nbformat_minor": 5
}
